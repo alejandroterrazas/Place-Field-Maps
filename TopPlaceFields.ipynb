{
 "cells": [
  {
   "cell_type": "code",
   "execution_count": 11,
   "metadata": {
    "scrolled": true
   },
   "outputs": [],
   "source": [
    "\n",
    "import pandas as pd\n",
    "import os\n",
    "import subprocess\n",
    "\n",
    "\n",
    "def download_and_rename(df, prefix):\n",
    "   scriptfile = open('./' + prefix + '.sh', 'w')\n",
    "   df_sort = df.sort_values(by='info/sec', ascending=False) \n",
    "   rankval = 0\n",
    "   for indx, row in df_sort.iterrows():\n",
    "     rankval += 1\n",
    "     #print(rankval)\n",
    "     fname_pos = row.cell_name.find('/Sc')\n",
    "     fname = row.cell_name[fname_pos+1:] + '.pdf'\n",
    "     front_part = row.cell_name[:fname_pos+1]\n",
    "     #print(front_part)\n",
    "    \n",
    "     dl_string = 'aws s3 cp s3://narp-alext/' + front_part + \\\n",
    "                 ' ./TOP_PFS/' + ' --exclude \"*\"' + \\\n",
    "                 ' --include \"' + fname + '\"' + \\\n",
    "                 ' --recursive'\n",
    "     scriptfile.write(dl_string + '\\n')\n",
    "      \n",
    "     #print(dl_string)\n",
    " \n",
    "     rename_string = 'mv ./TOP_PFS/' + fname  + ' ./TOP_PFS/' + \\\n",
    "                     prefix + '_' + str(rankval) + '.pdf'\n",
    "     scriptfile.write(rename_string + '\\n')\n",
    "          \n",
    "     #test = sumprocess.call(rename_string)\n",
    "     #print(rename_string)\n",
    "    #print(row.cell_name)\n",
    "   scriptfile.close()\n",
    "   \n",
    "ko = pd.read_excel('./TOP_PFS/KOSORTED.xlsx')\n",
    "download_and_rename(ko, 'KO')\n",
    "\n",
    "#print(ko_sort[['cell_name','info/sec']])\n",
    "#    print(idx, ko.loc[idx, 'cell_name'], ko.loc[idx, 'info/sec'])\n",
    "\n",
    "    \n",
    "wt = pd.read_excel('./TOP_PFS/WTSORTED.xlsx')"
   ]
  },
  {
   "cell_type": "markdown",
   "metadata": {},
   "source": [
    "subproces.call([\"chmod +x KO.sh\"])\n",
    "subprocess.call([\"KO.sh\"])"
   ]
  },
  {
   "cell_type": "code",
   "execution_count": null,
   "metadata": {},
   "outputs": [],
   "source": []
  }
 ],
 "metadata": {
  "kernelspec": {
   "display_name": "Python 2",
   "language": "python",
   "name": "python2"
  },
  "language_info": {
   "codemirror_mode": {
    "name": "ipython",
    "version": 2
   },
   "file_extension": ".py",
   "mimetype": "text/x-python",
   "name": "python",
   "nbconvert_exporter": "python",
   "pygments_lexer": "ipython2",
   "version": "2.7.12"
  }
 },
 "nbformat": 4,
 "nbformat_minor": 2
}
