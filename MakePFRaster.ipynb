{
 "cells": [
  {
   "cell_type": "code",
   "execution_count": 1,
   "metadata": {},
   "outputs": [],
   "source": [
    "import numpy as np\n",
    "from matplotlib import pyplot as plt\n",
    "import os\n",
    "import sys\n",
    "import pandas as pd\n",
    "import TetrodeUtils as tu\n",
    "import GeneralUtils as gu\n",
    "import VideoUtils as vu\n",
    "from matplotlib.gridspec import GridSpec\n",
    "import matplotlib.lines as mlines\n",
    "from scipy.stats import entropy\n",
    "import peakutils"
   ]
  },
  {
   "cell_type": "code",
   "execution_count": 2,
   "metadata": {},
   "outputs": [],
   "source": [
    "def returnPeakIndices(vals, m, t):\n",
    "     ind_peaks = peakutils.indexes(vals, thres=t, min_dist=m)\n",
    "     ind_troughs = peakutils.indexes(vals*-1, thres=t, min_dist=m)\n",
    "     return ind_peaks, ind_troughs\n",
    "\n",
    "def returnSpikeLocations(spikes, moving):\n",
    "  global ts\n",
    "  moving = []\n",
    "  stopped = []\n",
    "\n",
    "  for spike in spikes:\n",
    "    closest_t = gu.take_Closest(ts, spike)\n",
    "    indx  = np.where(ts == closest_t)[0][0]\n",
    "    #print(\"i {}\".format(x[i]))\n",
    "    if indx in imoving:\n",
    "      moving.append(indx)\n",
    "    else:\n",
    "      stopped.append(indx)\n",
    "  \n",
    "  return moving,stopped\n",
    "\n",
    "def plotRasters(goal_starts, goal_stops, gs, col): \n",
    "  #the following finds trajectories starting from goal\n",
    "  #global spikes, cum_t, xsmooth\n",
    "  for trajectory, goal in enumerate(goal_starts):\n",
    "    ax = plt.subplot(gs[trajectory,col])  \n",
    "    goal_stop = np.where(goal_stops>goal)[0]\n",
    "    if len(goal_stop) > 0:\n",
    "      rest_one = rests[goal]\n",
    "      rest_two = rests[goal_stops[goal_stop[0]]]\n",
    "      ##traj_start and traj_stop are times of arrival at goals\n",
    "      traj_start = cum_t[rest_one[-1]]\n",
    "      traj_stop = cum_t[rest_two[0]]\n",
    "      #print(\"start {}; stop {}\".format(traj_start, traj_stop))\n",
    "      lapspikes = [spike for spike in spikes if traj_start < spike < traj_stop]\n",
    "      moving,stopped = returnSpikeLocations(lapspikes, imoving)\n",
    "      #print(\"Trajectory duration: {}\".format(traj_stop-traj_start))\n",
    "      #print(\"Trajectory: {}; spikes: {}\".format(trajectory, len(moving)))\n",
    "    raster = np.zeros(len(moving))\n",
    "\n",
    "    for i, spike in enumerate(moving):\n",
    "      raster[i] = x[spike]\n",
    "\n",
    "    plt.eventplot(raster, linewidths=5, color = 'k')\n",
    "    plt.xlim([0,65])\n",
    "    \n",
    "    plt.axis('off')\n",
    "    \n",
    "    "
   ]
  },
  {
   "cell_type": "code",
   "execution_count": 4,
   "metadata": {},
   "outputs": [
    {
     "name": "stdout",
     "output_type": "stream",
     "text": [
      "nspikes in tfile: 4833\n"
     ]
    }
   ],
   "source": [
    "##main program\n",
    "#pvdfile = sys.argv[1]\n",
    "#tfilename = sys.argv[2]\n",
    "\n",
    "pvdfile = './RawData/maze_trackerout.pvd'\n",
    "tfilename = './RawData/Sc4_03.t64'\n",
    "\n",
    "spikes = tu.readTFile(tfilename)\n",
    "\n",
    "ts, x, y = vu.readPVDfile(pvdfile)\n",
    "\n",
    "#8.2 pixels per centimeter\n",
    "x /= 8.2\n",
    "smoothfac = 50\n",
    "xsmooth = np.abs(np.convolve(x, np.ones(smoothfac, dtype=np.int), \n",
    "                 'valid'))/smoothfac\n",
    "\n",
    "#use later to detect direction\n",
    "#direction = np.where(np.diff(xsmooth)>0, 1, 0)\n",
    "\n",
    "cum = np.cumsum(np.abs(np.diff(xsmooth)))\n",
    "cum_t = np.linspace(ts[0], ts[-1], num=len(cum))\n",
    "\n",
    "inotmoving = np.where(np.diff(cum)<.1)[0]\n",
    "imoving = np.where(np.diff(cum)>=.1)[0]\n",
    "\n",
    "#plt.plot(cum_t,cum)\n",
    "#plt.plot(cum_t[inotmoving], cum[inotmoving], 'r.')\n",
    "#plt.show()"
   ]
  },
  {
   "cell_type": "code",
   "execution_count": 5,
   "metadata": {},
   "outputs": [
    {
     "data": {
      "image/png": "[encoded data removed]",
      "text/plain": [
       "<Figure size 432x288 with 1 Axes>"
      ]
     },
     "metadata": {
      "needs_background": "light"
     },
     "output_type": "display_data"
    }
   ],
   "source": [
    "plt.plot(x, y, 'r.')\n",
    "plt.show()"
   ]
  },
  {
   "cell_type": "code",
   "execution_count": 6,
   "metadata": {},
   "outputs": [],
   "source": [
    "#find the times where the rat is not moving by\n",
    "#grouping the consective not moving indices"
   ]
  },
  {
   "cell_type": "code",
   "execution_count": 7,
   "metadata": {},
   "outputs": [
    {
     "name": "stderr",
     "output_type": "stream",
     "text": [
      "/usr/local/lib/python2.7/dist-packages/numpy/core/fromnumeric.py:2957: RuntimeWarning: Mean of empty slice.\n",
      "  out=out, **kwargs)\n",
      "/usr/local/lib/python2.7/dist-packages/numpy/core/_methods.py:80: RuntimeWarning: invalid value encountered in double_scalars\n",
      "  ret = ret.dtype.type(ret / rcount)\n"
     ]
    }
   ],
   "source": [
    "rests = gu.group_consecutives(inotmoving)\n",
    "\n",
    "starts = []\n",
    "stops = []\n",
    "seq = []\n",
    "\n",
    "for rest in rests:\n",
    "   #take a maximum of 100 samples at the rest point\n",
    "   #note this kicks out a warning sometimes; mean of empty slices\n",
    "   endpt = rest[0]+100 if rest[-1]-rest[0] > 100 else rest[-1]\n",
    "   \n",
    "   if np.mean(xsmooth[rest[0]:endpt]) > 60:\n",
    "      #print(\"Goal 1\")\n",
    "      seq.append(1)\n",
    "   elif np.mean(xsmooth[rest[0]:endpt]) < 8:\n",
    "      #print(\"Goal 2\")\n",
    "      seq.append(2)\n",
    "   else:\n",
    "      #print(\"Middle!\")\n",
    "      seq.append(0)\n",
    "\n",
    "seq = np.asarray(seq)\n",
    "goal_ones = np.where(seq==1)[0]\n",
    "goal_twos = np.where(seq==2)[0]"
   ]
  },
  {
   "cell_type": "markdown",
   "metadata": {},
   "source": [
    "#Find clean goal ones (where"
   ]
  },
  {
   "cell_type": "code",
   "execution_count": 8,
   "metadata": {},
   "outputs": [],
   "source": [
    "clean_goal_ones = []\n",
    "\n",
    "#print(goal_ones)\n",
    "#print(goal_twos)\n",
    "#print(np.shape(goal_ones))\n",
    "#print(np.shape(goal_twos))\n",
    "\n",
    "for g2 in goal_twos:\n",
    "  indx = np.where(goal_ones<g2)\n",
    "  if len(indx[0])>0:\n",
    "     clean_goal_ones.append(goal_ones[indx[0][-1]])  \n",
    "\n",
    "g1s = np.unique(clean_goal_ones)\n",
    "#print(g1s)"
   ]
  },
  {
   "cell_type": "raw",
   "metadata": {},
   "source": [
    "clean_goal_twos = []\n",
    "for g1 in g1s:\n",
    "  indx = np.where(goal_twos>g1)\n",
    "  if len(indx[0])>0:\n",
    "     clean_goal_twos.append(goal_twos[indx[0][0]])\n",
    "\n",
    "g2s = np.unique(clean_goal_twos)\n",
    "print(g2s)"
   ]
  },
  {
   "cell_type": "code",
   "execution_count": 9,
   "metadata": {},
   "outputs": [
    {
     "ename": "NameError",
     "evalue": "name 'g2s' is not defined",
     "output_type": "error",
     "traceback": [
      "\u001b[0;31m---------------------------------------------------------------------------\u001b[0m",
      "\u001b[0;31mNameError\u001b[0m                                 Traceback (most recent call last)",
      "\u001b[0;32m<ipython-input-9-b974d680046e>\u001b[0m in \u001b[0;36m<module>\u001b[0;34m()\u001b[0m\n\u001b[1;32m     23\u001b[0m         fontsize=12, fontweight='bold', rotation='vertical')\n\u001b[1;32m     24\u001b[0m \u001b[0;34m\u001b[0m\u001b[0m\n\u001b[0;32m---> 25\u001b[0;31m \u001b[0mmaxtraj\u001b[0m \u001b[0;34m=\u001b[0m \u001b[0mlen\u001b[0m\u001b[0;34m(\u001b[0m\u001b[0mg1s\u001b[0m\u001b[0;34m)\u001b[0m \u001b[0;32mif\u001b[0m \u001b[0mlen\u001b[0m\u001b[0;34m(\u001b[0m\u001b[0mg1s\u001b[0m\u001b[0;34m)\u001b[0m \u001b[0;34m>\u001b[0m \u001b[0mlen\u001b[0m\u001b[0;34m(\u001b[0m\u001b[0mg2s\u001b[0m\u001b[0;34m)\u001b[0m \u001b[0;32melse\u001b[0m \u001b[0mlen\u001b[0m\u001b[0;34m(\u001b[0m\u001b[0mg2s\u001b[0m\u001b[0;34m)\u001b[0m\u001b[0;34m\u001b[0m\u001b[0m\n\u001b[0m\u001b[1;32m     26\u001b[0m \u001b[0;32mprint\u001b[0m\u001b[0;34m(\u001b[0m\u001b[0mmaxtraj\u001b[0m\u001b[0;34m)\u001b[0m\u001b[0;34m\u001b[0m\u001b[0m\n\u001b[1;32m     27\u001b[0m \u001b[0;34m\u001b[0m\u001b[0m\n",
      "\u001b[0;31mNameError\u001b[0m: name 'g2s' is not defined"
     ]
    },
    {
     "data": {
      "image/png": "[encoded data removed]",
      "text/plain": [
       "<Figure size 576x720 with 0 Axes>"
      ]
     },
     "metadata": {},
     "output_type": "display_data"
    }
   ],
   "source": [
    "  \n",
    "fig = plt.figure(figsize=(8,10))\n",
    "#x0, x1  y0, y1\n",
    "left_vertical  = mlines.Line2D([0.03,0.03], [0.02,.98], \n",
    "                               transform=fig.transFigure, figure=fig)\n",
    "\n",
    "center_vertical  = mlines.Line2D([.52,.52], [0.02,.98], \n",
    "                                 transform=fig.transFigure, figure=fig)\n",
    "left_base = mlines.Line2D([.03,.5], [.02,.02], \n",
    "            transform=fig.transFigure, figure=fig)\n",
    "\n",
    "right_base = mlines.Line2D([.52,.98], [.02,.02], \n",
    "            transform=fig.transFigure, figure=fig)\n",
    "\n",
    "fig.lines.extend([left_vertical, center_vertical,left_base, right_base])\n",
    "\n",
    "fig.text(.05, .0, \"Position on Track: Goal 1 to Goal 2\", \n",
    "         fontsize=12, fontweight='bold')\n",
    "fig.text(.55, .0, \"Position on Track: Goal 2 to Goal 1\",\n",
    "         fontsize=12, fontweight='bold')\n",
    "\n",
    "fig.text(.0, .5, \"Lap number\", \n",
    "          fontsize=12, fontweight='bold', rotation='vertical')\n",
    "\n",
    "maxtraj = len(g1s) if len(g1s) > len(g2s) else len(g2s)\n",
    "print(maxtraj)\n",
    "\n",
    "fig.text(.0, .97, \"1\", \n",
    "          fontsize=12, fontweight='bold', )\n",
    "\n",
    "fig.text(.0, .02, \"{}\".format(maxtraj), \n",
    "          fontsize=12, fontweight='bold', )\n",
    "\n",
    "gs = GridSpec(maxtraj,2)\n",
    "gs.update(hspace=0.01, wspace=0.01,\n",
    "          left=0.01, right=0.99, \n",
    "          top = 0.98, bottom = 0.02 )\n",
    "\n",
    "#print(g1s)\n",
    "#print(g2s)\n",
    "\n",
    "plotRasters(g1s,g2s, gs,0)\n",
    "\n",
    "plotRasters(g2s, g1s, gs,1) \n",
    "plt.show()\n",
    "tfilename +=\"RASTER.png\"  \n",
    "fig.savefig(tfilename, dpi='figure')"
   ]
  },
  {
   "cell_type": "code",
   "execution_count": null,
   "metadata": {},
   "outputs": [],
   "source": []
  }
 ],
 "metadata": {
  "kernelspec": {
   "display_name": "Python 2",
   "language": "python",
   "name": "python2"
  },
  "language_info": {
   "codemirror_mode": {
    "name": "ipython",
    "version": 2
   },
   "file_extension": ".py",
   "mimetype": "text/x-python",
   "name": "python",
   "nbconvert_exporter": "python",
   "pygments_lexer": "ipython2",
   "version": "2.7.12"
  }
 },
 "nbformat": 4,
 "nbformat_minor": 2
}
