{
 "cells": [
  {
   "cell_type": "code",
   "execution_count": null,
   "metadata": {},
   "outputs": [],
   "source": [
    "from bisect import bisect_left\n",
    "import numpy as np\n",
    "import sys\n",
    "import struct\n",
    "from matplotlib import pyplot as plt\n",
    "from matplotlib.gridspec import GridSpec\n",
    "import matplotlib.lines as mlines\n",
    "import TetrodeUtils as trode\n",
    "import GeneralUtils as gu\n",
    "import glob"
   ]
  },
  {
   "cell_type": "code",
   "execution_count": 111,
   "metadata": {},
   "outputs": [
    {
     "name": "stdout",
     "output_type": "stream",
     "text": [
      "Number of spikes: 13588\n",
      "nspikes in tfile: 3247\n"
     ]
    }
   ],
   "source": [
    "ts, waveforms = trode.readTetrode('./RawData/Sc3.ntt')\n",
    "\n",
    "spikes = trode.readTFile('./RawData/Sc3_02.t64')"
   ]
  },
  {
   "cell_type": "code",
   "execution_count": 112,
   "metadata": {},
   "outputs": [],
   "source": [
    "smallwave = np.zeros([4,32,len(spikes)])\n",
    "\n",
    "##find the nearest waveform timestamp to tfile timestamp\n",
    " \n",
    "for indx, spike in enumerate(spikes):\n",
    " \n",
    "    closest = gu.take_Closest(ts, spike*100)\n",
    "    ts_index = np.where(ts==closest)[0]\n",
    "   \n",
    "    smallwave[:,:,indx]=waveforms[:,:,ts_index[0]]\n",
    "  \n",
    "  ##compute mean waveform for each channel\n",
    "wave_mean = np.zeros([4,32])\n",
    "\n",
    "for i in range(4):\n",
    "     wave_mean[i,:] = np.mean(smallwave[i,:,:], axis=1)"
   ]
  },
  {
   "cell_type": "code",
   "execution_count": 113,
   "metadata": {},
   "outputs": [
    {
     "name": "stdout",
     "output_type": "stream",
     "text": [
      "2\n"
     ]
    }
   ],
   "source": [
    "biggest = np.argmax(np.max(wave_mean, axis=1))\n",
    "print(biggest)"
   ]
  },
  {
   "cell_type": "code",
   "execution_count": 127,
   "metadata": {},
   "outputs": [
    {
     "data": {
      "text/plain": [
       "(-415.35663689559595, 493.5934708962119)"
      ]
     },
     "execution_count": 127,
     "metadata": {},
     "output_type": "execute_result"
    },
    {
     "data": {
      "image/png": "[encoded data removed]",
      "text/plain": [
       "<Figure size 432x288 with 1 Axes>"
      ]
     },
     "metadata": {
      "needs_background": "light"
     },
     "output_type": "display_data"
    }
   ],
   "source": [
    "xvals = range(len(wave_mean[biggest,:]))\n",
    "#xvals = [x/31. for x in xvals]\n",
    "\n",
    "plt.plot(xvals, wave_mean[0,:], 'k.')\n",
    "plt.ylim([plotmin, plotmax])"
   ]
  },
  {
   "cell_type": "code",
   "execution_count": 128,
   "metadata": {},
   "outputs": [
    {
     "name": "stdout",
     "output_type": "stream",
     "text": [
      "(32,)\n",
      "(32,)\n"
     ]
    }
   ],
   "source": [
    "import scipy.interpolate as interp\n",
    "##choose the biggest waveform to find FWHM\n",
    "waveform = wave_mean[biggest,:]\n",
    "##adjust the waveform baseline\n",
    "peak = np.argmax(waveform)\n",
    "baseline = np.min(waveform[:peak])\n",
    "adjusted_waveform = waveform-baseline\n",
    "print(np.shape(adjusted_waveform))\n",
    "print(np.shape(xvals))\n",
    "#create a super resolution waveform"
   ]
  },
  {
   "cell_type": "code",
   "execution_count": 129,
   "metadata": {},
   "outputs": [
    {
     "data": {
      "image/png": "[encoded data removed]",
      "text/plain": [
       "<Figure size 432x288 with 1 Axes>"
      ]
     },
     "metadata": {
      "needs_background": "light"
     },
     "output_type": "display_data"
    }
   ],
   "source": [
    "f1 = interp.interp1d(xvals, adjusted_waveform, kind='linear')\n",
    "superx = np.linspace(0,31,100)\n",
    "\n",
    "supery = f1(superx)\n",
    "plt.plot(supery, 'r.')\n",
    "plt.show()"
   ]
  },
  {
   "cell_type": "code",
   "execution_count": 133,
   "metadata": {},
   "outputs": [
    {
     "name": "stdout",
     "output_type": "stream",
     "text": [
      "316.5333983506143\n"
     ]
    }
   ],
   "source": [
    "##find the max\n",
    "peakind = np.argmax(supery)\n",
    "troughind = np.argmin(supery)\n",
    "\n",
    "prepeak = supery[:peakind]\n",
    "postpeak = supery[peakind:troughind]\n",
    "\n",
    "half_max = supery[peakind]/2\n",
    "print(half_max)"
   ]
  },
  {
   "cell_type": "code",
   "execution_count": 139,
   "metadata": {},
   "outputs": [
    {
     "name": "stdout",
     "output_type": "stream",
     "text": [
      "316.5333983506143\n"
     ]
    }
   ],
   "source": [
    "print(half_max)\n",
    "#print(postpeak)\n",
    "half_max_post = peakind + np.argmin(np.abs([val-half_max for val in postpeak]))\n",
    "half_max_pre = np.argmin(np.abs([val-half_max for val in prepeak]))"
   ]
  },
  {
   "cell_type": "code",
   "execution_count": null,
   "metadata": {},
   "outputs": [],
   "source": [
    "print(supery[half_max_post])\n",
    "print(half_max_post)\n",
    "\n",
    "print(supery[half_max_pre])\n",
    "print(half_max_pre)"
   ]
  },
  {
   "cell_type": "code",
   "execution_count": 143,
   "metadata": {
    "scrolled": true
   },
   "outputs": [
    {
     "name": "stdout",
     "output_type": "stream",
     "text": [
      "190\n"
     ]
    }
   ],
   "source": [
    "print((half_max_post - half_max_pre) * 10)\n",
    "#100 = 1 ms each sample = .01 ms\n"
   ]
  },
  {
   "cell_type": "raw",
   "metadata": {},
   "source": [
    "print(supery)"
   ]
  },
  {
   "cell_type": "code",
   "execution_count": 144,
   "metadata": {},
   "outputs": [
    {
     "data": {
      "text/plain": [
       "[<matplotlib.lines.Line2D at 0x7f1b11b469d0>]"
      ]
     },
     "execution_count": 144,
     "metadata": {},
     "output_type": "execute_result"
    },
    {
     "data": {
      "image/png": "[encoded data removed]",
      "text/plain": [
       "<Figure size 432x288 with 1 Axes>"
      ]
     },
     "metadata": {
      "needs_background": "light"
     },
     "output_type": "display_data"
    }
   ],
   "source": [
    "plt.plot(superx, supery)"
   ]
  },
  {
   "cell_type": "code",
   "execution_count": 154,
   "metadata": {},
   "outputs": [
    {
     "name": "stdout",
     "output_type": "stream",
     "text": [
      "False\n",
      "shit\n"
     ]
    }
   ],
   "source": [
    "a = ['x', 'b']\n",
    "b = []\n",
    "print(not a)\n",
    "if (not b) | (not a):\n",
    "    print(\"shit\")"
   ]
  },
  {
   "cell_type": "code",
   "execution_count": null,
   "metadata": {},
   "outputs": [],
   "source": []
  }
 ],
 "metadata": {
  "kernelspec": {
   "display_name": "Python 3",
   "language": "python",
   "name": "python3"
  },
  "language_info": {
   "codemirror_mode": {
    "name": "ipython",
    "version": 2
   },
   "file_extension": ".py",
   "mimetype": "text/x-python",
   "name": "python",
   "nbconvert_exporter": "python",
   "pygments_lexer": "ipython2",
   "version": "2.7.12"
  }
 },
 "nbformat": 4,
 "nbformat_minor": 2
}
